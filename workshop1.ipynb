import dlt
import duckdb


def people_1():
    for i in range(1, 6):
        yield {"ID": i, "Name": f"Person_{i}", "Age": 25 + i, "City": "City_A"}

for person in people_1():
    print(person)


def people_2():
    for i in range(3, 9):
        yield {"ID": i, "Name": f"Person_{i}", "Age": 30 + i, "City": "City_B", "Occupation": f"Job_{i}"}


for person in people_2():
    print(person)


# info = dlt.pipeline(destination='duckdb', dataset_name='mydata').run(people_1, table_name="users", primary_key='ID')
info2 = dlt.pipeline(destination='duckdb', dataset_name='mydata').run(people_2, table_name="users", write_disposition='merge')
print(info2)
conn = duckdb.connect("dlt_colab_kernel_launcher.duckdb")

# let's see the tables
conn.sql("SET search_path = 'mydata'")
print('Loaded tables: ')
display(conn.sql("show tables"))

users = conn.sql("SELECT * FROM users").df()
display(users)
sum  = conn.sql("SELECT SUM(AGE) FROM users").df
print(sum)
# conn.sql("DELETE  FROM users")
